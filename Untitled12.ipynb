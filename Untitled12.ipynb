{
  "nbformat": 4,
  "nbformat_minor": 0,
  "metadata": {
    "colab": {
      "provenance": []
    },
    "kernelspec": {
      "name": "python3",
      "display_name": "Python 3"
    },
    "language_info": {
      "name": "python"
    }
  },
  "cells": [
    {
      "cell_type": "code",
      "source": [
        "\n",
        "\n",
        "import pandas as pd\n",
        "from sklearn.model_selection import train_test_split\n",
        "from sklearn.ensemble import RandomForestClassifier\n",
        "from sklearn.metrics import classification_report, confusion_matrix, accuracy_score\n",
        "\n",
        "# Load the dataset\n",
        "data = pd.read_csv('/content/bankloan.csv')\n",
        "\n",
        "# Inspect the data (optional)\n",
        "print(data.head())\n",
        "\n",
        "# Preprocess the data\n",
        "# Define feature columns and target column\n",
        "feature_columns = ['Age', 'Experience', 'Income', 'ZIP.Code', 'Family', 'CCAvg', 'Education', 'Mortgage', 'Securities.Account', 'CD.Account', 'Online', 'CreditCard']\n",
        "target_column = 'Personal.Loan'\n",
        "\n",
        "X = data[feature_columns]\n",
        "y = data[target_column]\n",
        "\n",
        "# Convert categorical columns if needed (e.g., ZIP.Code or Education)\n",
        "# Example:\n",
        "X = pd.get_dummies(X, columns=['ZIP.Code', 'Education'], drop_first=True)\n",
        "\n",
        "# Split the data into training and test sets\n",
        "X_train, X_test, y_train, y_test = train_test_split(X, y, test_size=0.3, random_state=42)\n",
        "\n",
        "# Train the Random Forest model\n",
        "model = RandomForestClassifier(n_estimators=100, random_state=42)\n",
        "model.fit(X_train, y_train)\n",
        "\n",
        "# Make predictions\n",
        "y_pred = model.predict(X_test)\n",
        "\n",
        "# Evaluate the model\n",
        "print(\"Confusion Matrix:\\n\", confusion_matrix(y_test, y_pred))\n",
        "print(\"Classification Report:\\n\", classification_report(y_test, y_pred))\n",
        "print(\"Accuracy Score:\", accuracy_score(y_test, y_pred))\n",
        "\n",
        "# Feature importance\n",
        "importances = model.feature_importances_\n",
        "feature_importance_df = pd.DataFrame({'Feature': X.columns, 'Importance': importances}).sort_values(by='Importance', ascending=False)\n",
        "print(\"Feature Importances:\\n\", feature_importance_df)\n"
      ],
      "metadata": {
        "colab": {
          "base_uri": "https://localhost:8080/"
        },
        "id": "LpdE8pr7AAHY",
        "outputId": "ae5d4481-cd20-4de4-f819-0ec0540859e2"
      },
      "execution_count": 7,
      "outputs": [
        {
          "output_type": "stream",
          "name": "stdout",
          "text": [
            "   ID  Age  Experience  Income  ZIP.Code  Family  CCAvg  Education  Mortgage  \\\n",
            "0   1   25           1      49     91107       4    1.6          1         0   \n",
            "1   2   45          19      34     90089       3    1.5          1         0   \n",
            "2   3   39          15      11     94720       1    1.0          1         0   \n",
            "3   4   35           9     100     94112       1    2.7          2         0   \n",
            "4   5   35           8      45     91330       4    1.0          2         0   \n",
            "\n",
            "   Personal.Loan  Securities.Account  CD.Account  Online  CreditCard  \n",
            "0              0                   1           0       0           0  \n",
            "1              0                   1           0       0           0  \n",
            "2              0                   0           0       0           0  \n",
            "3              0                   0           0       0           0  \n",
            "4              0                   0           0       0           1  \n",
            "Confusion Matrix:\n",
            " [[1343    0]\n",
            " [  31  126]]\n",
            "Classification Report:\n",
            "               precision    recall  f1-score   support\n",
            "\n",
            "           0       0.98      1.00      0.99      1343\n",
            "           1       1.00      0.80      0.89       157\n",
            "\n",
            "    accuracy                           0.98      1500\n",
            "   macro avg       0.99      0.90      0.94      1500\n",
            "weighted avg       0.98      0.98      0.98      1500\n",
            "\n",
            "Accuracy Score: 0.9793333333333333\n",
            "Feature Importances:\n",
            "             Feature  Importance\n",
            "2            Income    0.235636\n",
            "4             CCAvg    0.147984\n",
            "3            Family    0.080850\n",
            "476     Education_2    0.058526\n",
            "477     Education_3    0.050255\n",
            "..              ...         ...\n",
            "66   ZIP.Code_90505    0.000000\n",
            "96   ZIP.Code_91129    0.000000\n",
            "212  ZIP.Code_92673    0.000000\n",
            "415  ZIP.Code_95131    0.000000\n",
            "435  ZIP.Code_95503    0.000000\n",
            "\n",
            "[478 rows x 2 columns]\n"
          ]
        }
      ]
    }
  ]
}